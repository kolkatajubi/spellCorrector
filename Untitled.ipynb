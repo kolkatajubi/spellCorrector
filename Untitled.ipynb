{
 "cells": [
  {
   "cell_type": "code",
   "execution_count": 8,
   "metadata": {},
   "outputs": [],
   "source": [
    "from similarity.jarowinkler import JaroWinkler\n",
    "import time\n",
    "import re\n",
    "from flask import Flask\n",
    "from flask import request\n",
    "from flask import jsonify"
   ]
  },
  {
   "cell_type": "code",
   "execution_count": 9,
   "metadata": {},
   "outputs": [],
   "source": [
    "with open('linuxwords.txt', 'r',newline='') as f:\n",
    "    dictionary = f.read().lower().splitlines()"
   ]
  },
  {
   "cell_type": "code",
   "execution_count": 10,
   "metadata": {},
   "outputs": [],
   "source": [
    "def is_correct(word, dictionary):\n",
    "    return (word.lower() in dictionary)"
   ]
  },
  {
   "cell_type": "code",
   "execution_count": 11,
   "metadata": {},
   "outputs": [],
   "source": [
    "def correct(word,dictionary):\n",
    "    if is_correct(word,dictionary):\n",
    "        return (word, 1.0)\n",
    "    else:\n",
    "        jarowinkler = JaroWinkler()\n",
    "        score = []\n",
    "        for dict_word in dictionary:\n",
    "            score.append(jarowinkler.similarity(word,dict_word))\n",
    "        return (dictionary[score.index(max(score))],max(score))"
   ]
  },
  {
   "cell_type": "code",
   "execution_count": 12,
   "metadata": {},
   "outputs": [],
   "source": [
    "cache = {}"
   ]
  },
  {
   "cell_type": "code",
   "execution_count": 13,
   "metadata": {},
   "outputs": [],
   "source": [
    "app = Flask(__name__)\n",
    "@app.route('/' , methods = ['POST'])\n",
    "def testDict():\n",
    "    output={}\n",
    "    content = request.get_json()\n",
    "    word = content[\"word\"]\n",
    "    word = re.sub(r'[0987654321~`’!#@$%^&*(){}\\[\\];:\"\\'<,.>?\\/\\\\|_+=-]',\"\",word.strip()).strip()\n",
    "    if word in cache:\n",
    "        start = time.clock()\n",
    "        print(\"from cache\")\n",
    "        print(\"i/p word :\"+word)\n",
    "        print(\"o/p word : \"+cache[word]['answer'])\n",
    "        print(\"score : \"+str(cache[word]['score']))\n",
    "        print(\"time taken : \"+str(time.clock()-start))\n",
    "    else:\n",
    "        cache[word]={}\n",
    "        start = time.clock()\n",
    "        ans, score = correct(word,dictionary)\n",
    "        print(\"i/p word :\"+word)\n",
    "        print(\"o/p word : \"+ans)\n",
    "        print(\"score : \"+str(score))\n",
    "        print(\"time taken : \"+str(time.clock()-start))\n",
    "        cache[word]['answer'] = ans\n",
    "        cache[word]['score'] = score\n",
    "    output['i/p word'] = word\n",
    "    output['o/p word'] = cache[word]['answer']\n",
    "    output['score'] =cache[word]['score']\n",
    "    output['status'] = 'success'\n",
    "    output['totalTime'] = time.clock() - start\n",
    "    print(\"OUTPUT : \", output)\n",
    "    return jsonify(output)\n"
   ]
  },
  {
   "cell_type": "code",
   "execution_count": null,
   "metadata": {},
   "outputs": [
    {
     "name": "stdout",
     "output_type": "stream",
     "text": [
      " * Serving Flask app \"__main__\" (lazy loading)\n",
      " * Environment: production\n",
      "   WARNING: This is a development server. Do not use it in a production deployment.\n",
      "   Use a production WSGI server instead.\n",
      " * Debug mode: off\n"
     ]
    },
    {
     "name": "stderr",
     "output_type": "stream",
     "text": [
      " * Running on http://0.0.0.0:2900/ (Press CTRL+C to quit)\n",
      "C:\\Users\\Sonu\\Anaconda3\\lib\\site-packages\\ipykernel_launcher.py:17: DeprecationWarning: time.clock has been deprecated in Python 3.3 and will be removed from Python 3.8: use time.perf_counter or time.process_time instead\n",
      "C:\\Users\\Sonu\\Anaconda3\\lib\\site-packages\\ipykernel_launcher.py:22: DeprecationWarning: time.clock has been deprecated in Python 3.3 and will be removed from Python 3.8: use time.perf_counter or time.process_time instead\n",
      "C:\\Users\\Sonu\\Anaconda3\\lib\\site-packages\\ipykernel_launcher.py:29: DeprecationWarning: time.clock has been deprecated in Python 3.3 and will be removed from Python 3.8: use time.perf_counter or time.process_time instead\n",
      "127.0.0.1 - - [11/Dec/2019 13:06:31] \"POST / HTTP/1.1\" 200 -\n"
     ]
    },
    {
     "name": "stdout",
     "output_type": "stream",
     "text": [
      "i/p word :elephant\n",
      "o/p word : elephant\n",
      "score : 1.0\n",
      "time taken : 0.002606799999739451\n",
      "OUTPUT :  {'i/p word': 'elephant', 'o/p word': 'elephant', 'score': 1.0, 'status': 'success', 'totalTime': 0.0026941999994960497}\n"
     ]
    },
    {
     "name": "stderr",
     "output_type": "stream",
     "text": [
      "127.0.0.1 - - [11/Dec/2019 13:06:49] \"POST / HTTP/1.1\" 200 -\n"
     ]
    },
    {
     "name": "stdout",
     "output_type": "stream",
     "text": [
      "i/p word :elephat\n",
      "o/p word : elephant\n",
      "score : 0.9833333333333334\n",
      "time taken : 1.8822885999998107\n",
      "OUTPUT :  {'i/p word': 'elephat', 'o/p word': 'elephant', 'score': 0.9833333333333334, 'status': 'success', 'totalTime': 1.8827508000003945}\n"
     ]
    },
    {
     "name": "stderr",
     "output_type": "stream",
     "text": [
      "C:\\Users\\Sonu\\Anaconda3\\lib\\site-packages\\ipykernel_launcher.py:9: DeprecationWarning: time.clock has been deprecated in Python 3.3 and will be removed from Python 3.8: use time.perf_counter or time.process_time instead\n",
      "  if __name__ == '__main__':\n",
      "C:\\Users\\Sonu\\Anaconda3\\lib\\site-packages\\ipykernel_launcher.py:14: DeprecationWarning: time.clock has been deprecated in Python 3.3 and will be removed from Python 3.8: use time.perf_counter or time.process_time instead\n",
      "  \n",
      "127.0.0.1 - - [11/Dec/2019 13:07:07] \"POST / HTTP/1.1\" 200 -\n"
     ]
    },
    {
     "name": "stdout",
     "output_type": "stream",
     "text": [
      "from cache\n",
      "i/p word :elephat\n",
      "o/p word : elephant\n",
      "score : 0.9833333333333334\n",
      "time taken : 0.0003665000003820751\n",
      "OUTPUT :  {'i/p word': 'elephat', 'o/p word': 'elephant', 'score': 0.9833333333333334, 'status': 'success', 'totalTime': 0.00045539999973698286}\n"
     ]
    },
    {
     "name": "stderr",
     "output_type": "stream",
     "text": [
      "127.0.0.1 - - [11/Dec/2019 13:07:17] \"POST / HTTP/1.1\" 200 -\n"
     ]
    },
    {
     "name": "stdout",
     "output_type": "stream",
     "text": [
      "i/p word :eye\n",
      "o/p word : eye\n",
      "score : 1.0\n",
      "time taken : 0.012138200000663346\n",
      "OUTPUT :  {'i/p word': 'eye', 'o/p word': 'eye', 'score': 1.0, 'status': 'success', 'totalTime': 0.013442200000099547}\n"
     ]
    },
    {
     "name": "stderr",
     "output_type": "stream",
     "text": [
      "127.0.0.1 - - [11/Dec/2019 13:07:27] \"POST / HTTP/1.1\" 200 -\n"
     ]
    },
    {
     "name": "stdout",
     "output_type": "stream",
     "text": [
      "i/p word :eya\n",
      "o/p word : eyeball\n",
      "score : 0.8476190476190477\n",
      "time taken : 1.0435311000001093\n",
      "OUTPUT :  {'i/p word': 'eya', 'o/p word': 'eyeball', 'score': 0.8476190476190477, 'status': 'success', 'totalTime': 1.0441375000000335}\n"
     ]
    },
    {
     "name": "stderr",
     "output_type": "stream",
     "text": [
      "127.0.0.1 - - [11/Dec/2019 13:10:30] \"POST / HTTP/1.1\" 200 -\n"
     ]
    },
    {
     "name": "stdout",
     "output_type": "stream",
     "text": [
      "i/p word :fasinbfihknkvdiovnoin\n",
      "o/p word : fain\n",
      "score : 0.7558578987150416\n",
      "time taken : 2.0633521999998266\n",
      "OUTPUT :  {'i/p word': 'fasinbfihknkvdiovnoin', 'o/p word': 'fain', 'score': 0.7558578987150416, 'status': 'success', 'totalTime': 2.063874299999952}\n"
     ]
    },
    {
     "name": "stderr",
     "output_type": "stream",
     "text": [
      "127.0.0.1 - - [11/Dec/2019 13:10:52] \"POST / HTTP/1.1\" 200 -\n"
     ]
    },
    {
     "name": "stdout",
     "output_type": "stream",
     "text": [
      "i/p word :bofingoaiwsdnogsm\n",
      "o/p word : bringing\n",
      "score : 0.7762399077277969\n",
      "time taken : 2.0342153999999937\n",
      "OUTPUT :  {'i/p word': 'bofingoaiwsdnogsm', 'o/p word': 'bringing', 'score': 0.7762399077277969, 'status': 'success', 'totalTime': 2.0349372999999105}\n"
     ]
    },
    {
     "name": "stderr",
     "output_type": "stream",
     "text": [
      "127.0.0.1 - - [11/Dec/2019 13:11:15] \"POST / HTTP/1.1\" 200 -\n"
     ]
    },
    {
     "name": "stdout",
     "output_type": "stream",
     "text": [
      "i/p word :bofinklcsnmspgoaiwsdnogsm\n",
      "o/p word : boils\n",
      "score : 0.7546666666666667\n",
      "time taken : 2.048122300000614\n",
      "OUTPUT :  {'i/p word': 'bofinklcsnmspgoaiwsdnogsm', 'o/p word': 'boils', 'score': 0.7546666666666667, 'status': 'success', 'totalTime': 2.0481532000003426}\n"
     ]
    }
   ],
   "source": [
    "if __name__ == '__main__':\n",
    "    app.run(host='0.0.0.0', port= 2900)"
   ]
  },
  {
   "cell_type": "code",
   "execution_count": null,
   "metadata": {},
   "outputs": [],
   "source": []
  }
 ],
 "metadata": {
  "kernelspec": {
   "display_name": "Python 3",
   "language": "python",
   "name": "python3"
  },
  "language_info": {
   "codemirror_mode": {
    "name": "ipython",
    "version": 3
   },
   "file_extension": ".py",
   "mimetype": "text/x-python",
   "name": "python",
   "nbconvert_exporter": "python",
   "pygments_lexer": "ipython3",
   "version": "3.7.4"
  }
 },
 "nbformat": 4,
 "nbformat_minor": 2
}
